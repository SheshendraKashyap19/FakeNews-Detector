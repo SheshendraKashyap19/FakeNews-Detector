{
  "nbformat": 4,
  "nbformat_minor": 0,
  "metadata": {
    "colab": {
      "provenance": [],
      "mount_file_id": "1QyVVVU7KcXAGldxX4CRbM4zxymtiDdOz",
      "authorship_tag": "ABX9TyPRC7GL3/H80qWM1C7L9jI6",
      "include_colab_link": true
    },
    "kernelspec": {
      "name": "python3",
      "display_name": "Python 3"
    },
    "language_info": {
      "name": "python"
    }
  },
  "cells": [
    {
      "cell_type": "markdown",
      "metadata": {
        "id": "view-in-github",
        "colab_type": "text"
      },
      "source": [
        "<a href=\"https://colab.research.google.com/github/SheshendraKashyap19/FakeNews-Detector/blob/Dataset/FakeNEWS.ipynb\" target=\"_parent\"><img src=\"https://colab.research.google.com/assets/colab-badge.svg\" alt=\"Open In Colab\"/></a>"
      ]
    },
    {
      "cell_type": "code",
      "source": [
        "import pandas as pd\n",
        "\n",
        "# Load datasets\n",
        "fake = pd.read_csv(\"/content/Fake.csv\")\n",
        "true = pd.read_csv(\"/content/True.csv\")\n",
        "\n",
        "# Add labels\n",
        "fake[\"label\"] = 0\n",
        "true[\"label\"] = 1\n",
        "\n",
        "# Combine into one dataset\n",
        "data = pd.concat([fake, true], axis=0).reset_index(drop=True)\n",
        "\n",
        "print(data.head())"
      ],
      "metadata": {
        "colab": {
          "base_uri": "https://localhost:8080/"
        },
        "id": "AVDmhYBFbbT7",
        "outputId": "8c412f00-adb6-4d05-c2bb-e58312411f42"
      },
      "execution_count": null,
      "outputs": [
        {
          "output_type": "stream",
          "name": "stdout",
          "text": [
            "                                               title  \\\n",
            "0   Donald Trump Sends Out Embarrassing New Year’...   \n",
            "1   Drunk Bragging Trump Staffer Started Russian ...   \n",
            "2   Sheriff David Clarke Becomes An Internet Joke...   \n",
            "3   Trump Is So Obsessed He Even Has Obama’s Name...   \n",
            "4   Pope Francis Just Called Out Donald Trump Dur...   \n",
            "\n",
            "                                                text subject  \\\n",
            "0  Donald Trump just couldn t wish all Americans ...    News   \n",
            "1  House Intelligence Committee Chairman Devin Nu...    News   \n",
            "2  On Friday, it was revealed that former Milwauk...    News   \n",
            "3  On Christmas day, Donald Trump announced that ...    News   \n",
            "4  Pope Francis used his annual Christmas Day mes...    News   \n",
            "\n",
            "                date  label  \n",
            "0  December 31, 2017      0  \n",
            "1  December 31, 2017      0  \n",
            "2  December 30, 2017      0  \n",
            "3  December 29, 2017      0  \n",
            "4  December 25, 2017      0  \n"
          ]
        }
      ]
    },
    {
      "cell_type": "code",
      "source": [
        "from sklearn.model_selection import train_test_split\n",
        "\n",
        "X = data['text']\n",
        "y = data['label']\n",
        "\n",
        "X_train, X_test, y_train, y_test = train_test_split(X, y, test_size=0.2, random_state=42)"
      ],
      "metadata": {
        "id": "SiwdoqZse5a0"
      },
      "execution_count": null,
      "outputs": []
    },
    {
      "cell_type": "code",
      "source": [
        "from sklearn.feature_extraction.text import TfidfVectorizer\n",
        "from sklearn.linear_model import LogisticRegression\n",
        "from sklearn.pipeline import make_pipeline\n",
        "from sklearn.metrics import accuracy_score\n",
        "\n",
        "# Create pipeline: TF-IDF + Logistic Regression\n",
        "model = make_pipeline(TfidfVectorizer(), LogisticRegression())\n",
        "\n",
        "# Train\n",
        "model.fit(X_train, y_train)\n",
        "\n",
        "# Predict\n",
        "y_pred = model.predict(X_test)\n",
        "\n",
        "print(\"Accuracy:\", accuracy_score(y_test, y_pred))"
      ],
      "metadata": {
        "colab": {
          "base_uri": "https://localhost:8080/"
        },
        "id": "amLbCcbQfAhP",
        "outputId": "2eefc6aa-df84-4f0f-9fc1-f8f8fec6b5d7"
      },
      "execution_count": null,
      "outputs": [
        {
          "output_type": "stream",
          "name": "stdout",
          "text": [
            "Accuracy: 0.9864142538975501\n"
          ]
        }
      ]
    },
    {
      "cell_type": "code",
      "source": [
        "#8. Function to check if news is real or fake\n",
        "def check_news(text):\n",
        "    pred = model.predict([text])[0]\n",
        "    return True if pred == 1 else False\n",
        "\n",
        "# 9. Test with custom input\n",
        "sample_news = input('please give your news, i will predict whether it is true or false')\n",
        "print(\"Prediction:\", check_news(sample_news))  # True = Real, False = Fake"
      ],
      "metadata": {
        "colab": {
          "base_uri": "https://localhost:8080/"
        },
        "id": "ngJLLksFf7Hh",
        "outputId": "2b58b1a7-49b4-4793-beeb-471ef6a65988"
      },
      "execution_count": null,
      "outputs": [
        {
          "output_type": "stream",
          "name": "stdout",
          "text": [
            "please give your news, i will predict whether it is true or falsemodi is boss\n",
            "Prediction: False\n"
          ]
        }
      ]
    },
    {
      "cell_type": "code",
      "source": [],
      "metadata": {
        "id": "QE6t54WUmxiy"
      },
      "execution_count": null,
      "outputs": []
    },
    {
      "cell_type": "code",
      "source": [
        "from sklearn.linear_model import PassiveAggressiveClassifier\n",
        "\n",
        "model = make_pipeline(TfidfVectorizer(stop_words=\"english\", max_df=0.7),\n",
        "                      PassiveAggressiveClassifier(max_iter=50))\n"
      ],
      "metadata": {
        "id": "tFmC7z-PhzxS"
      },
      "execution_count": null,
      "outputs": []
    },
    {
      "cell_type": "code",
      "source": [
        "print(data['label'].value_counts())\n"
      ],
      "metadata": {
        "colab": {
          "base_uri": "https://localhost:8080/"
        },
        "id": "N6gPHt4ch4uN",
        "outputId": "e3c555af-cbe4-489a-ce6f-16a252382cdd"
      },
      "execution_count": null,
      "outputs": [
        {
          "output_type": "stream",
          "name": "stdout",
          "text": [
            "label\n",
            "0    23481\n",
            "1    21417\n",
            "Name: count, dtype: int64\n"
          ]
        }
      ]
    },
    {
      "cell_type": "code",
      "source": [],
      "metadata": {
        "id": "8lF84IeijWtc"
      },
      "execution_count": null,
      "outputs": []
    },
    {
      "cell_type": "code",
      "source": [
        "import pandas as pd\n",
        "from sklearn.model_selection import train_test_split\n",
        "from sklearn.feature_extraction.text import TfidfVectorizer\n",
        "from sklearn.linear_model import LogisticRegression\n",
        "from sklearn.pipeline import make_pipeline\n",
        "\n",
        "# 1. Load datasets\n",
        "fake = pd.read_csv(\"/content/Fake.csv\")\n",
        "true = pd.read_csv(\"/content/True.csv\")\n",
        "\n",
        "# 2. Add labels (Fake=0, True=1)\n",
        "fake[\"label\"] = 0\n",
        "true[\"label\"] = 1\n",
        "\n",
        "# 3. Combine datasets\n",
        "data = pd.concat([fake, true], axis=0).reset_index(drop=True)\n",
        "\n",
        "# 4. Use only the text column\n",
        "X = data[\"text\"]\n",
        "y = data[\"label\"]\n",
        "\n",
        "# 5. Train-test split\n",
        "X_train, X_test, y_train, y_test = train_test_split(X, y, test_size=0.2, random_state=42)\n",
        "\n",
        "# 6. Build pipeline: TF-IDF + Logistic Regression\n",
        "model = make_pipeline(TfidfVectorizer(stop_words=\"english\", max_df=0.7), LogisticRegression())\n",
        "\n",
        "# 7. Train\n",
        "model.fit(X_train, y_train)\n",
        "\n",
        "# 8. Function to check news probability\n",
        "def check_news_probability(text):\n",
        "    prob = model.predict_proba([text])[0]   # [Fake, Real]\n",
        "    fake_prob = prob[0] * 100\n",
        "    real_prob = prob[1] * 100\n",
        "    if real_prob > fake_prob:\n",
        "        label = \"Real News\"\n",
        "    else:\n",
        "        label = \"Fake News\"\n",
        "    return {\n",
        "        \"Prediction\": label,\n",
        "        \"Fake Probability (%)\": round(fake_prob, 2),\n",
        "        \"Real Probability (%)\": round(real_prob, 2)\n",
        "    }\n",
        "\n",
        "# 9. Test with custom input\n",
        "sample_news = \"Narendra Modi is Prime Minister of India.\"\n",
        "print(check_news_probability(sample_news))"
      ],
      "metadata": {
        "colab": {
          "base_uri": "https://localhost:8080/"
        },
        "id": "Hswxawnkinlx",
        "outputId": "a0010486-5d44-4935-ca2f-c8a830beb8e4"
      },
      "execution_count": null,
      "outputs": [
        {
          "output_type": "stream",
          "name": "stdout",
          "text": [
            "{'Prediction': 'Real News', 'Fake Probability (%)': np.float64(30.9), 'Real Probability (%)': np.float64(69.1)}\n"
          ]
        }
      ]
    },
    {
      "cell_type": "code",
      "source": [
        "def check_news_probability(text):\n",
        "    prob = model.predict_proba([text])[0]   # [Fake, Real]\n",
        "    fake_prob = prob[0] * 100\n",
        "    real_prob = prob[1] * 100\n",
        "\n",
        "    print(f\"True  ({real_prob:.2f}%)\")\n",
        "    print(f\"False ({fake_prob:.2f}%)\")\n",
        "\n",
        "    if real_prob > fake_prob:\n",
        "        return \"Prediction: True\"\n",
        "    else:\n",
        "        return \"Prediction: False\"\n",
        "\n",
        "# Test\n",
        "sample_news = input('please give your news, i will predict whether it is true or false')\n",
        "print(check_news_probability(sample_news))"
      ],
      "metadata": {
        "colab": {
          "base_uri": "https://localhost:8080/"
        },
        "id": "oWnOb3G5j5_3",
        "outputId": "99ef3034-dd65-475a-87bc-e86680cb396a"
      },
      "execution_count": null,
      "outputs": [
        {
          "output_type": "stream",
          "name": "stdout",
          "text": [
            "please give your news, i will predict whether it is true or falsemodi is true\n",
            "True  (12.87%)\n",
            "False (87.13%)\n",
            "Prediction: False\n"
          ]
        }
      ]
    }
  ]
}